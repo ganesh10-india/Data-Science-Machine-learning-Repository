{
 "cells": [
  {
   "cell_type": "markdown",
   "metadata": {},
   "source": [
    "# Python If ... Else\n"
   ]
  },
  {
   "cell_type": "code",
   "execution_count": 1,
   "metadata": {},
   "outputs": [
    {
     "name": "stdout",
     "output_type": "stream",
     "text": [
      "B is greater than A\n"
     ]
    }
   ],
   "source": [
    "a = 33\n",
    "b = 200\n",
    "if b > a:\n",
    "    print(\"B is greater than A\")"
   ]
  },
  {
   "cell_type": "markdown",
   "metadata": {},
   "source": [
    "**Elif**\n",
    "\n",
    "The elif keyword is pythons way of saying \"if the previous conditions were not true, then try this condition\"."
   ]
  },
  {
   "cell_type": "code",
   "execution_count": 2,
   "metadata": {},
   "outputs": [
    {
     "name": "stdout",
     "output_type": "stream",
     "text": [
      "A is equal to b\n"
     ]
    }
   ],
   "source": [
    "a = 33\n",
    "b = 33\n",
    "if a > b:\n",
    "    print(\"A is grester than b\")\n",
    "elif a == b:\n",
    "    print(\"A is equal to b\")"
   ]
  },
  {
   "cell_type": "markdown",
   "metadata": {},
   "source": [
    "**Else**\n",
    "\n",
    "The else keyword catches anything which isn't caught by the preceding conditions."
   ]
  },
  {
   "cell_type": "code",
   "execution_count": 3,
   "metadata": {},
   "outputs": [
    {
     "name": "stdout",
     "output_type": "stream",
     "text": [
      "a is greater than b\n"
     ]
    }
   ],
   "source": [
    "a = 200\n",
    "b = 52\n",
    "if a < b:\n",
    "    print('b is greater than a')\n",
    "elif a == b:\n",
    "    print('a is equal to b')\n",
    "else:\n",
    "    print('a is greater than b')"
   ]
  },
  {
   "cell_type": "code",
   "execution_count": 4,
   "metadata": {},
   "outputs": [
    {
     "name": "stdout",
     "output_type": "stream",
     "text": [
      "a is greater than b\n"
     ]
    }
   ],
   "source": [
    "# You can also have an else without the elif:\n",
    "a = 200\n",
    "b = 20\n",
    "if a > b:\n",
    "    print('a is greater than b')\n",
    "else:\n",
    "    print('A is not')\n"
   ]
  },
  {
   "cell_type": "code",
   "execution_count": 5,
   "metadata": {},
   "outputs": [
    {
     "name": "stdout",
     "output_type": "stream",
     "text": [
      "a is greater than b\n"
     ]
    }
   ],
   "source": [
    "# One line if statement:\n",
    "if a > b : print('a is greater than b')"
   ]
  },
  {
   "cell_type": "code",
   "execution_count": 6,
   "metadata": {},
   "outputs": [
    {
     "name": "stdout",
     "output_type": "stream",
     "text": [
      "A\n"
     ]
    }
   ],
   "source": [
    "# One line if else statement:\n",
    "a = 200\n",
    "b = 50\n",
    "print('A') if a > b else print ('B')"
   ]
  },
  {
   "cell_type": "code",
   "execution_count": 7,
   "metadata": {},
   "outputs": [
    {
     "name": "stdout",
     "output_type": "stream",
     "text": [
      "a=b\n"
     ]
    }
   ],
   "source": [
    "# One line if else statement, with 3 conditions:\n",
    "a = 300\n",
    "b = 300\n",
    "print('A is greater') if a > b else print(\"a=b\") if a == b else print('B is greater')"
   ]
  },
  {
   "cell_type": "markdown",
   "metadata": {},
   "source": [
    "**And**\n",
    "\n",
    "The and keyword is a logical operator, and is used to combine conditional statements:"
   ]
  },
  {
   "cell_type": "code",
   "execution_count": 8,
   "metadata": {},
   "outputs": [
    {
     "name": "stdout",
     "output_type": "stream",
     "text": [
      "Condition are true\n"
     ]
    }
   ],
   "source": [
    "# Test if a is greater than b, AND if c is greater than a:\n",
    "a = 300\n",
    "b = 50\n",
    "c = 500\n",
    "if a > b and c > a:\n",
    "    print('Condition are true')"
   ]
  },
  {
   "cell_type": "markdown",
   "metadata": {},
   "source": [
    "**Or**\n",
    "\n",
    "The or keyword is a logical operator, and is used to combine conditional statements:"
   ]
  },
  {
   "cell_type": "code",
   "execution_count": 9,
   "metadata": {},
   "outputs": [
    {
     "name": "stdout",
     "output_type": "stream",
     "text": [
      "At least one of the conditions is True\n"
     ]
    }
   ],
   "source": [
    "#Test if a is greater than b, OR if a is greater than c:\n",
    "a = 200\n",
    "b = 33\n",
    "c = 500\n",
    "if a > b or a > c:\n",
    "  print(\"At least one of the conditions is True\")"
   ]
  },
  {
   "cell_type": "markdown",
   "metadata": {},
   "source": [
    "**Nested If**\n",
    "\n",
    "You can have if statements inside if statements, this is called nested if statements."
   ]
  },
  {
   "cell_type": "markdown",
   "metadata": {},
   "source": [
    "**The pass Statement**\n",
    "\n",
    "if statements cannot be empty, but if you for some reason have an if statement with no content, put in the pass statement to avoid getting an error."
   ]
  },
  {
   "cell_type": "code",
   "execution_count": 10,
   "metadata": {},
   "outputs": [],
   "source": [
    "a = 33\n",
    "b = 200\n",
    "if b > a :\n",
    "    pass"
   ]
  },
  {
   "cell_type": "markdown",
   "metadata": {},
   "source": [
    "# Examples "
   ]
  },
  {
   "cell_type": "code",
   "execution_count": 12,
   "metadata": {},
   "outputs": [
    {
     "name": "stdout",
     "output_type": "stream",
     "text": [
      "How many days in a leap year ?366\n",
      "You have cleared the test\n",
      "Congrats!!!\n"
     ]
    }
   ],
   "source": [
    "days  = int(input(\"How many days in a leap year ?\"))\n",
    "if days == 366:\n",
    "    print(\"You have cleared the test\")\n",
    "print(\"Congrats!!!\")"
   ]
  },
  {
   "cell_type": "code",
   "execution_count": 13,
   "metadata": {},
   "outputs": [
    {
     "name": "stdout",
     "output_type": "stream",
     "text": [
      "Is Python an interpreted language? Yes or No >> Yes\n",
      "You have cleared the test.\n",
      "Thanks!\n"
     ]
    }
   ],
   "source": [
    "answer = input(\"Is Python an interpreted language? Yes or No >> \").lower()\n",
    "\n",
    "if answer == \"yes\" :\n",
    "    print(\"You have cleared the test.\")\n",
    "else :\n",
    "    print(\"You have failed the test.\")\n",
    "\n",
    "print(\"Thanks!\")"
   ]
  },
  {
   "cell_type": "code",
   "execution_count": 14,
   "metadata": {},
   "outputs": [
    {
     "name": "stdout",
     "output_type": "stream",
     "text": [
      "Enter a number : 5\n",
      "Odd Number\n"
     ]
    }
   ],
   "source": [
    "# if else in python lets take a look at a program to find out if a number is even or odd.\n",
    "x = int(input(\"Enter a number : \"))\n",
    "if x % 2 == 0:\n",
    "    print('Even Number')\n",
    "elif x % 2 == 1:\n",
    "    print('Odd Number')\n",
    "else:\n",
    "    print('Enter a Number')"
   ]
  },
  {
   "cell_type": "code",
   "execution_count": 18,
   "metadata": {},
   "outputs": [
    {
     "name": "stdout",
     "output_type": "stream",
     "text": [
      "not a prime number\n",
      "prime number\n",
      "not a prime number\n",
      "prime number\n",
      "not a prime number\n",
      "prime number\n",
      "not a prime number\n"
     ]
    }
   ],
   "source": [
    "# inding out a prime number using if else.\n",
    "x = 9\n",
    "for i in range(2,x):\n",
    "    if i % 2 == 0:\n",
    "        print('not a prime number')\n",
    "    else:\n",
    "        print('prime number')"
   ]
  },
  {
   "cell_type": "code",
   "execution_count": 19,
   "metadata": {},
   "outputs": [
    {
     "name": "stdout",
     "output_type": "stream",
     "text": [
      "even number\n"
     ]
    }
   ],
   "source": [
    "# Nested if else\n",
    "x = 10\n",
    "if x != 0:\n",
    "   if x % 2 == 0:\n",
    "      print('even number')\n",
    "   else:\n",
    "      print('odd number')\n",
    "elif x == 0:\n",
    "   print('equal to zero')\n",
    "elif x > 0:\n",
    "  for i in range(2,x):\n",
    "     if i % 2 == 0:\n",
    "        print('not a prime number')\n",
    "     else:\n",
    "        print('prime number')\n",
    "else:\n",
    "   print('less than zero')"
   ]
  },
  {
   "cell_type": "code",
   "execution_count": 22,
   "metadata": {},
   "outputs": [
    {
     "name": "stdout",
     "output_type": "stream",
     "text": [
      "What is the temperature? 75.5\n",
      "Wear shorts\n",
      "Get some exercise outside\n"
     ]
    }
   ],
   "source": [
    "temperature = float(input('What is the temperature? '))\n",
    "if temperature > 70:\n",
    "    print('Wear shorts')\n",
    "else:\n",
    "    print('Wear long pants ')\n",
    "print('Get some exercise outside')"
   ]
  },
  {
   "cell_type": "code",
   "execution_count": 23,
   "metadata": {},
   "outputs": [
    {
     "name": "stdout",
     "output_type": "stream",
     "text": [
      "Enter Length\n",
      "5\n",
      "Enter Breadth\n",
      "6\n",
      "No,its only a rectangle\n"
     ]
    }
   ],
   "source": [
    "# Take values of length and breadth of a rectangle from user and check if it is square or not.\n",
    "\n",
    "print('Enter Length')\n",
    "length = input()\n",
    "print('Enter Breadth')\n",
    "breadth = input()\n",
    "if length == breadth:\n",
    "    print(\"Yes ,is a Square\")\n",
    "else:\n",
    "    print(\"No,its only a rectangle\")"
   ]
  },
  {
   "cell_type": "code",
   "execution_count": 24,
   "metadata": {},
   "outputs": [
    {
     "name": "stdout",
     "output_type": "stream",
     "text": [
      "Enter first Number\n",
      "56\n",
      "Enter Second Number\n",
      "12\n",
      "First number is greater\n"
     ]
    }
   ],
   "source": [
    "# Take two int values from user and print greatest among them.\n",
    "print('Enter first Number')\n",
    "first = input()\n",
    "print('Enter Second Number')\n",
    "second = input()\n",
    "if first > second :\n",
    "    print('First number is greater')\n",
    "elif second > first:\n",
    "    print('Second Number is greater')\n",
    "else:\n",
    "    ('Ganesh Kasturi')"
   ]
  },
  {
   "cell_type": "markdown",
   "metadata": {},
   "source": [
    "A shop will give discount of 10% if the cost of purchased quantity is more than 1000.\n",
    "Ask user for quantity\n",
    "Suppose, one unit will cost 100.\n",
    "Judge and print total cost for user.\n"
   ]
  },
  {
   "cell_type": "code",
   "execution_count": 31,
   "metadata": {},
   "outputs": [
    {
     "name": "stdout",
     "output_type": "stream",
     "text": [
      "Enter quantity\n",
      "11\n",
      "Cost is  990.0\n"
     ]
    }
   ],
   "source": [
    "print('Enter quantity')\n",
    "quantity = int(input())\n",
    "if quantity*100 > 1000:\n",
    "    print(\"Cost is \",(quantity*100)-(.1*quantity*100))\n",
    "else:\n",
    "    print(\"Cost is  \",quantity*100)"
   ]
  },
  {
   "cell_type": "markdown",
   "metadata": {},
   "source": [
    "A company decided to give bonus of 5% to employee if his/her year of service is more than 5 years.\n",
    "Ask user for their salary and year of service and print the net bonus amount.\n"
   ]
  },
  {
   "cell_type": "code",
   "execution_count": 33,
   "metadata": {},
   "outputs": [
    {
     "name": "stdout",
     "output_type": "stream",
     "text": [
      "Enter Salary\n",
      "50000\n",
      "Enter no of years in a company\n",
      "10\n",
      "Bonus is  2500.0\n"
     ]
    }
   ],
   "source": [
    "print('Enter Salary')\n",
    "salary = int(input())\n",
    "print(\"Enter no of years in a company\")\n",
    "yos = int(input())\n",
    "if yos > 5:\n",
    "    print(\"Bonus is \",.05*salary)\n",
    "else:\n",
    "    print(\"NO BONUS\")"
   ]
  },
  {
   "cell_type": "markdown",
   "metadata": {},
   "source": [
    "A school has following rules for grading system:\n",
    "a. Below 25 - F\n",
    "b. 25 to 45 - E\n",
    "c. 45 to 50 - D\n",
    "d. 50 to 60 - C\n",
    "e. 60 to 80 - B\n",
    "f. Above 80 - A\n",
    "Ask user to enter marks and print the corresponding grade."
   ]
  },
  {
   "cell_type": "code",
   "execution_count": 39,
   "metadata": {},
   "outputs": [
    {
     "name": "stdout",
     "output_type": "stream",
     "text": [
      "Enter your Marks\n",
      "59\n",
      "C\n"
     ]
    }
   ],
   "source": [
    "print('Enter your Marks')\n",
    "marks = int(input())\n",
    "if marks<25:\n",
    "    print (\"F\")\n",
    "elif marks>=25 and marks<45:\n",
    "    print (\"E\")\n",
    "elif marks>=45 and marks<50:\n",
    "    print (\"D\")\n",
    "elif marks>=50 and marks<60:\n",
    "    print (\"C\")\n",
    "elif marks>=60 and marks<80:\n",
    "    print (\"B\")\n",
    "else:\n",
    "    print (\"A\")"
   ]
  },
  {
   "cell_type": "markdown",
   "metadata": {},
   "source": [
    "Take input of age of 3 people by user and determine oldest and youngest among them."
   ]
  },
  {
   "cell_type": "code",
   "execution_count": 41,
   "metadata": {},
   "outputs": [
    {
     "name": "stdout",
     "output_type": "stream",
     "text": [
      "Enter first age\n",
      "56\n",
      "Enter second age\n",
      "89\n",
      "third age\n",
      "45\n",
      "Oldest is 89\n"
     ]
    }
   ],
   "source": [
    "print (\"Enter first age\")\n",
    "first = int(input())\n",
    "print (\"Enter second age\")\n",
    "second = int(input())\n",
    "print (\"third age\")\n",
    "third = int(input())\n",
    "if first >= second and first >= third:\n",
    "    print (\"Oldest is\",first)\n",
    "elif second >= first and second >= third:\n",
    "    print (\"Oldest is\",second)\n",
    "elif third >= first and third >= second:\n",
    "    print (\"Oldest is\",third)\n",
    "else:\n",
    "    print (\"All are equal\")\t"
   ]
  },
  {
   "cell_type": "markdown",
   "metadata": {},
   "source": [
    "A student will not be allowed to sit in exam if his/her attendence is less than 75%.\n",
    "Take following input from user\n",
    "Number of classes held\n",
    "Number of classes attended.\n",
    "And print\n",
    "percentage of class attended\n",
    "Is student is allowed to sit in exam or not.\n"
   ]
  },
  {
   "cell_type": "code",
   "execution_count": 42,
   "metadata": {},
   "outputs": [
    {
     "name": "stdout",
     "output_type": "stream",
     "text": [
      "Number of classes held\n",
      "56\n",
      "Number of classes attended\n",
      "48\n",
      "Attendence is 85.71428571428571\n",
      "You are allowed to sit in exam\n"
     ]
    }
   ],
   "source": [
    "print (\"Number of classes held\")\n",
    "noh = int(input())\n",
    "print (\"Number of classes attended\")\n",
    "noa = int(input())\n",
    "atten = (noa/float(noh))*100\n",
    "print (\"Attendence is\",atten)\n",
    "if atten >= 75:\n",
    "    print (\"You are allowed to sit in exam\")\n",
    "else:\n",
    "    print (\"Sorry, you are not allowed. Attend more classes from next time.\")"
   ]
  },
  {
   "cell_type": "code",
   "execution_count": null,
   "metadata": {},
   "outputs": [],
   "source": []
  }
 ],
 "metadata": {
  "kernelspec": {
   "display_name": "Python 3",
   "language": "python",
   "name": "python3"
  },
  "language_info": {
   "codemirror_mode": {
    "name": "ipython",
    "version": 3
   },
   "file_extension": ".py",
   "mimetype": "text/x-python",
   "name": "python",
   "nbconvert_exporter": "python",
   "pygments_lexer": "ipython3",
   "version": "3.7.4"
  }
 },
 "nbformat": 4,
 "nbformat_minor": 2
}
